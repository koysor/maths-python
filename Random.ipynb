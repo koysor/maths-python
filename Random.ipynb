{
 "cells": [
  {
   "cell_type": "code",
   "execution_count": 1,
   "id": "9923ea07-19a1-4a4d-a0c7-1e382eb15f06",
   "metadata": {},
   "outputs": [],
   "source": [
    "import numpy as np"
   ]
  },
  {
   "cell_type": "code",
   "execution_count": 7,
   "id": "eb085656-6fe1-4be6-9179-5beeb6eb61ee",
   "metadata": {},
   "outputs": [
    {
     "data": {
      "text/plain": [
       "array([[[0.53559278, 0.5056602 , 0.62470431]],\n",
       "\n",
       "       [[0.08851938, 0.09592468, 0.93205167]],\n",
       "\n",
       "       [[0.33306251, 0.93072922, 0.89364593]]])"
      ]
     },
     "execution_count": 7,
     "metadata": {},
     "output_type": "execute_result"
    }
   ],
   "source": [
    "np.random.rand(3, 1, 3)"
   ]
  },
  {
   "cell_type": "code",
   "execution_count": 5,
   "id": "5cce2361-2328-4245-877e-48e2aaed5453",
   "metadata": {
    "collapsed": true,
    "jupyter": {
     "outputs_hidden": true
    },
    "scrolled": true
   },
   "outputs": [
    {
     "name": "stdout",
     "output_type": "stream",
     "text": [
      "Help on method rand in module numpy.random:\n",
      "\n",
      "rand(*args) method of numpy.random.mtrand.RandomState instance\n",
      "    rand(d0, d1, ..., dn)\n",
      "\n",
      "    Random values in a given shape.\n",
      "\n",
      "    .. note::\n",
      "        This is a convenience function for users porting code from Matlab,\n",
      "        and wraps `random_sample`. That function takes a\n",
      "        tuple to specify the size of the output, which is consistent with\n",
      "        other NumPy functions like `numpy.zeros` and `numpy.ones`.\n",
      "\n",
      "    Create an array of the given shape and populate it with\n",
      "    random samples from a uniform distribution\n",
      "    over ``[0, 1)``.\n",
      "\n",
      "    Parameters\n",
      "    ----------\n",
      "    d0, d1, ..., dn : int, optional\n",
      "        The dimensions of the returned array, must be non-negative.\n",
      "        If no argument is given a single Python float is returned.\n",
      "\n",
      "    Returns\n",
      "    -------\n",
      "    out : ndarray, shape ``(d0, d1, ..., dn)``\n",
      "        Random values.\n",
      "\n",
      "    See Also\n",
      "    --------\n",
      "    random\n",
      "\n",
      "    Examples\n",
      "    --------\n",
      "    >>> np.random.rand(3,2)\n",
      "    array([[ 0.14022471,  0.96360618],  #random\n",
      "           [ 0.37601032,  0.25528411],  #random\n",
      "           [ 0.49313049,  0.94909878]]) #random\n",
      "\n"
     ]
    }
   ],
   "source": [
    "help(np.random.rand)"
   ]
  },
  {
   "cell_type": "code",
   "execution_count": 9,
   "id": "aaf73a0f-3fce-4275-9024-5ec6ba3d0633",
   "metadata": {},
   "outputs": [
    {
     "data": {
      "text/plain": [
       "array([[[-0.73803396,  0.96147095,  1.39834183]],\n",
       "\n",
       "       [[ 0.59061894, -0.45503415,  1.54019018]],\n",
       "\n",
       "       [[-0.76550949, -0.2072839 ,  0.97188946]]])"
      ]
     },
     "execution_count": 9,
     "metadata": {},
     "output_type": "execute_result"
    }
   ],
   "source": [
    "np.random.randn(3, 1, 3)"
   ]
  },
  {
   "cell_type": "code",
   "execution_count": 10,
   "id": "de704225-f5ab-46b9-87eb-b2cc2b96549f",
   "metadata": {
    "collapsed": true,
    "jupyter": {
     "outputs_hidden": true
    }
   },
   "outputs": [
    {
     "name": "stdout",
     "output_type": "stream",
     "text": [
      "Help on method randn in module numpy.random:\n",
      "\n",
      "randn(*args) method of numpy.random.mtrand.RandomState instance\n",
      "    randn(d0, d1, ..., dn)\n",
      "\n",
      "    Return a sample (or samples) from the \"standard normal\" distribution.\n",
      "\n",
      "    .. note::\n",
      "        This is a convenience function for users porting code from Matlab,\n",
      "        and wraps `standard_normal`. That function takes a\n",
      "        tuple to specify the size of the output, which is consistent with\n",
      "        other NumPy functions like `numpy.zeros` and `numpy.ones`.\n",
      "\n",
      "    .. note::\n",
      "        New code should use the\n",
      "        `~numpy.random.Generator.standard_normal`\n",
      "        method of a `~numpy.random.Generator` instance instead;\n",
      "        please see the :ref:`random-quick-start`.\n",
      "\n",
      "    If positive int_like arguments are provided, `randn` generates an array\n",
      "    of shape ``(d0, d1, ..., dn)``, filled\n",
      "    with random floats sampled from a univariate \"normal\" (Gaussian)\n",
      "    distribution of mean 0 and variance 1. A single float randomly sampled\n",
      "    from the distribution is returned if no argument is provided.\n",
      "\n",
      "    Parameters\n",
      "    ----------\n",
      "    d0, d1, ..., dn : int, optional\n",
      "        The dimensions of the returned array, must be non-negative.\n",
      "        If no argument is given a single Python float is returned.\n",
      "\n",
      "    Returns\n",
      "    -------\n",
      "    Z : ndarray or float\n",
      "        A ``(d0, d1, ..., dn)``-shaped array of floating-point samples from\n",
      "        the standard normal distribution, or a single such float if\n",
      "        no parameters were supplied.\n",
      "\n",
      "    See Also\n",
      "    --------\n",
      "    standard_normal : Similar, but takes a tuple as its argument.\n",
      "    normal : Also accepts mu and sigma arguments.\n",
      "    random.Generator.standard_normal: which should be used for new code.\n",
      "\n",
      "    Notes\n",
      "    -----\n",
      "    For random samples from the normal distribution with mean ``mu`` and\n",
      "    standard deviation ``sigma``, use::\n",
      "\n",
      "        sigma * np.random.randn(...) + mu\n",
      "\n",
      "    Examples\n",
      "    --------\n",
      "    >>> np.random.randn()\n",
      "    2.1923875335537315  # random\n",
      "\n",
      "    Two-by-four array of samples from the normal distribution with\n",
      "    mean 3 and standard deviation 2.5:\n",
      "\n",
      "    >>> 3 + 2.5 * np.random.randn(2, 4)\n",
      "    array([[-4.49401501,  4.00950034, -1.81814867,  7.29718677],   # random\n",
      "           [ 0.39924804,  4.68456316,  4.99394529,  4.84057254]])  # random\n",
      "\n"
     ]
    }
   ],
   "source": [
    "help(np.random.randn)"
   ]
  },
  {
   "cell_type": "code",
   "execution_count": 11,
   "id": "9e28b0dd-efeb-4a2b-bac5-e75e1fac2b0b",
   "metadata": {},
   "outputs": [
    {
     "data": {
      "text/plain": [
       "array([[[-1.51226904e+00, -8.20251567e-01, -1.40354743e+00,\n",
       "          6.16476791e-01],\n",
       "        [ 1.26929833e+00, -1.76024607e+00,  1.40720973e+00,\n",
       "          2.07239176e+00]],\n",
       "\n",
       "       [[ 4.77654855e-01, -1.98516894e+00,  8.13429425e-02,\n",
       "         -5.90565154e-01],\n",
       "        [ 6.95650533e-01,  4.14057363e-01, -1.88877378e-01,\n",
       "          1.87743979e+00]],\n",
       "\n",
       "       [[ 1.68808296e+00,  5.87019923e-01, -1.59953757e-01,\n",
       "         -5.43511170e-01],\n",
       "        [ 1.09917488e-03, -3.77875642e-01, -8.78170973e-01,\n",
       "         -1.84009195e-01]]])"
      ]
     },
     "execution_count": 11,
     "metadata": {},
     "output_type": "execute_result"
    }
   ],
   "source": [
    "np.random.standard_normal((3,2,4))"
   ]
  },
  {
   "cell_type": "code",
   "execution_count": 12,
   "id": "d79ab073-29f6-426e-8e84-bc3768fb4e8b",
   "metadata": {},
   "outputs": [
    {
     "name": "stdout",
     "output_type": "stream",
     "text": [
      "Help on method standard_normal in module numpy.random:\n",
      "\n",
      "standard_normal(size=None) method of numpy.random.mtrand.RandomState instance\n",
      "    standard_normal(size=None)\n",
      "\n",
      "    Draw samples from a standard Normal distribution (mean=0, stdev=1).\n",
      "\n",
      "    .. note::\n",
      "        New code should use the\n",
      "        `~numpy.random.Generator.standard_normal`\n",
      "        method of a `~numpy.random.Generator` instance instead;\n",
      "        please see the :ref:`random-quick-start`.\n",
      "\n",
      "    Parameters\n",
      "    ----------\n",
      "    size : int or tuple of ints, optional\n",
      "        Output shape.  If the given shape is, e.g., ``(m, n, k)``, then\n",
      "        ``m * n * k`` samples are drawn.  Default is None, in which case a\n",
      "        single value is returned.\n",
      "\n",
      "    Returns\n",
      "    -------\n",
      "    out : float or ndarray\n",
      "        A floating-point array of shape ``size`` of drawn samples, or a\n",
      "        single sample if ``size`` was not specified.\n",
      "\n",
      "    See Also\n",
      "    --------\n",
      "    normal :\n",
      "        Equivalent function with additional ``loc`` and ``scale`` arguments\n",
      "        for setting the mean and standard deviation.\n",
      "    random.Generator.standard_normal: which should be used for new code.\n",
      "\n",
      "    Notes\n",
      "    -----\n",
      "    For random samples from the normal distribution with mean ``mu`` and\n",
      "    standard deviation ``sigma``, use one of::\n",
      "\n",
      "        mu + sigma * np.random.standard_normal(size=...)\n",
      "        np.random.normal(mu, sigma, size=...)\n",
      "\n",
      "    Examples\n",
      "    --------\n",
      "    >>> np.random.standard_normal()\n",
      "    2.1923875335537315 #random\n",
      "\n",
      "    >>> s = np.random.standard_normal(8000)\n",
      "    >>> s\n",
      "    array([ 0.6888893 ,  0.78096262, -0.89086505, ...,  0.49876311,  # random\n",
      "           -0.38672696, -0.4685006 ])                                # random\n",
      "    >>> s.shape\n",
      "    (8000,)\n",
      "    >>> s = np.random.standard_normal(size=(3, 4, 2))\n",
      "    >>> s.shape\n",
      "    (3, 4, 2)\n",
      "\n",
      "    Two-by-four array of samples from the normal distribution with\n",
      "    mean 3 and standard deviation 2.5:\n",
      "\n",
      "    >>> 3 + 2.5 * np.random.standard_normal(size=(2, 4))\n",
      "    array([[-4.49401501,  4.00950034, -1.81814867,  7.29718677],   # random\n",
      "           [ 0.39924804,  4.68456316,  4.99394529,  4.84057254]])  # random\n",
      "\n"
     ]
    }
   ],
   "source": [
    "help(np.random.standard_normal)"
   ]
  },
  {
   "cell_type": "code",
   "execution_count": null,
   "id": "bb11d857-18e3-49c9-aed1-327fad349d11",
   "metadata": {},
   "outputs": [],
   "source": []
  }
 ],
 "metadata": {
  "kernelspec": {
   "display_name": "Python 3 (ipykernel)",
   "language": "python",
   "name": "python3"
  },
  "language_info": {
   "codemirror_mode": {
    "name": "ipython",
    "version": 3
   },
   "file_extension": ".py",
   "mimetype": "text/x-python",
   "name": "python",
   "nbconvert_exporter": "python",
   "pygments_lexer": "ipython3",
   "version": "3.13.1"
  }
 },
 "nbformat": 4,
 "nbformat_minor": 5
}
