{
 "cells": [
  {
   "cell_type": "code",
   "execution_count": 1,
   "id": "bf894c7b-a438-4224-8f9d-5f6dbfec5f97",
   "metadata": {},
   "outputs": [],
   "source": [
    "import mathml2latex"
   ]
  },
  {
   "cell_type": "code",
   "execution_count": 2,
   "id": "550c7332-2206-4908-b7a7-5658b0c15a51",
   "metadata": {},
   "outputs": [
    {
     "name": "stdout",
     "output_type": "stream",
     "text": [
      "Help on package mathml2latex:\n",
      "\n",
      "NAME\n",
      "    mathml2latex\n",
      "\n",
      "PACKAGE CONTENTS\n",
      "    mathml\n",
      "    parts_pickup\n",
      "    process_each_tag (package)\n",
      "\n",
      "VERSION\n",
      "    0.1.0\n",
      "\n",
      "FILE\n",
      "    /home/koysor/repos/maths-python/.venv/lib/python3.13/site-packages/mathml2latex/__init__.py\n",
      "\n",
      "\n"
     ]
    }
   ],
   "source": [
    "help(mathml2latex)"
   ]
  },
  {
   "cell_type": "code",
   "execution_count": 4,
   "id": "56890a9c-7c46-4702-9bcf-6236d0d5463f",
   "metadata": {},
   "outputs": [
    {
     "ename": "AttributeError",
     "evalue": "module 'mathml2latex' has no attribute 'convert'",
     "output_type": "error",
     "traceback": [
      "\u001b[0;31m---------------------------------------------------------------------------\u001b[0m",
      "\u001b[0;31mAttributeError\u001b[0m                            Traceback (most recent call last)",
      "Cell \u001b[0;32mIn[4], line 1\u001b[0m\n\u001b[0;32m----> 1\u001b[0m help(\u001b[43mmathml2latex\u001b[49m\u001b[38;5;241;43m.\u001b[39;49m\u001b[43mconvert\u001b[49m)\n",
      "\u001b[0;31mAttributeError\u001b[0m: module 'mathml2latex' has no attribute 'convert'"
     ]
    }
   ],
   "source": [
    "help(mathml2latex.convert)"
   ]
  },
  {
   "cell_type": "code",
   "execution_count": 5,
   "id": "51f2c841-1f5c-455c-b880-64e39ac596af",
   "metadata": {},
   "outputs": [
    {
     "ename": "ImportError",
     "evalue": "cannot import name 'MathML2Latex' from 'mathml2latex' (/home/koysor/repos/maths-python/.venv/lib/python3.13/site-packages/mathml2latex/__init__.py)",
     "output_type": "error",
     "traceback": [
      "\u001b[0;31m---------------------------------------------------------------------------\u001b[0m",
      "\u001b[0;31mImportError\u001b[0m                               Traceback (most recent call last)",
      "Cell \u001b[0;32mIn[5], line 1\u001b[0m\n\u001b[0;32m----> 1\u001b[0m \u001b[38;5;28;01mfrom\u001b[39;00m\u001b[38;5;250m \u001b[39m\u001b[38;5;21;01mmathml2latex\u001b[39;00m\u001b[38;5;250m \u001b[39m\u001b[38;5;28;01mimport\u001b[39;00m MathML2Latex\n\u001b[1;32m      3\u001b[0m converter \u001b[38;5;241m=\u001b[39m MathML2Latex()\n\u001b[1;32m      4\u001b[0m latex_string \u001b[38;5;241m=\u001b[39m converter\u001b[38;5;241m.\u001b[39mconvert(\u001b[38;5;124m'\u001b[39m\u001b[38;5;124m<math>...</math>\u001b[39m\u001b[38;5;124m'\u001b[39m)  \u001b[38;5;66;03m# Replace with your MathML\u001b[39;00m\n",
      "\u001b[0;31mImportError\u001b[0m: cannot import name 'MathML2Latex' from 'mathml2latex' (/home/koysor/repos/maths-python/.venv/lib/python3.13/site-packages/mathml2latex/__init__.py)"
     ]
    }
   ],
   "source": [
    "from mathml2latex import MathML2Latex\n",
    "\n",
    "converter = MathML2Latex()\n",
    "latex_string = converter.convert('<math>...</math>')  # Replace with your MathML\n",
    "print(latex_string)"
   ]
  },
  {
   "cell_type": "code",
   "execution_count": null,
   "id": "d0975654-1d8f-464f-9103-d6615d7edc99",
   "metadata": {},
   "outputs": [],
   "source": []
  }
 ],
 "metadata": {
  "kernelspec": {
   "display_name": "Python 3 (ipykernel)",
   "language": "python",
   "name": "python3"
  },
  "language_info": {
   "codemirror_mode": {
    "name": "ipython",
    "version": 3
   },
   "file_extension": ".py",
   "mimetype": "text/x-python",
   "name": "python",
   "nbconvert_exporter": "python",
   "pygments_lexer": "ipython3",
   "version": "3.13.1"
  }
 },
 "nbformat": 4,
 "nbformat_minor": 5
}
